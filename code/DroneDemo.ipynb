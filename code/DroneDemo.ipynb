{
 "cells": [
  {
   "cell_type": "markdown",
   "id": "middle-acoustic",
   "metadata": {},
   "source": [
    "# Quadrotor (aka \"the drone\")"
   ]
  },
  {
   "cell_type": "markdown",
   "id": "faced-least",
   "metadata": {},
   "source": [
    "Import modules and configure the notebook."
   ]
  },
  {
   "cell_type": "code",
   "execution_count": 2,
   "id": "informed-qatar",
   "metadata": {},
   "outputs": [
    {
     "data": {
      "text/plain": [
       "<module 'ae353_drone' from '/home/pranay/Downloads/AE353/DP4/ae353_drone.py'>"
      ]
     },
     "execution_count": 2,
     "metadata": {},
     "output_type": "execute_result"
    }
   ],
   "source": [
    "# import required libraries\n",
    "import os\n",
    "import time\n",
    "import numpy as np\n",
    "import matplotlib.pyplot as plt\n",
    "import ae353_drone\n",
    "import importlib\n",
    "importlib.reload(ae353_drone)"
   ]
  },
  {
   "cell_type": "markdown",
   "id": "bfaed8ed",
   "metadata": {},
   "source": [
    "## Synthesize Linearized System Model"
   ]
  },
  {
   "cell_type": "markdown",
   "id": "d703cf24",
   "metadata": {},
   "source": [
    "### Derive EOM"
   ]
  },
  {
   "cell_type": "code",
   "execution_count": null,
   "id": "e6b1ec3f",
   "metadata": {},
   "outputs": [],
   "source": [
    "# copy from DeriveEOM notebook"
   ]
  },
  {
   "cell_type": "code",
   "execution_count": null,
   "id": "101b9b4a",
   "metadata": {},
   "outputs": [],
   "source": [
    "# get f"
   ]
  },
  {
   "cell_type": "code",
   "execution_count": null,
   "id": "fca9585a",
   "metadata": {},
   "outputs": [],
   "source": [
    "# think about what g should be.\n",
    "    # y = g(x), i.e., g should be the relation between state and output. What if output is directly some of the states?\n",
    "    # what is the dimension of g? i.e., how many equations in g if say y is 6x1?\n",
    "\n",
    "# get g"
   ]
  },
  {
   "cell_type": "markdown",
   "id": "4f905308",
   "metadata": {},
   "source": [
    "### Linearize - Get A, B, C, D matrices"
   ]
  },
  {
   "cell_type": "code",
   "execution_count": null,
   "id": "0c56cd84",
   "metadata": {},
   "outputs": [],
   "source": [
    "# pick state variables\n",
    "\n",
    "# pick control variables \n",
    "\n",
    "# pick equilibrium values"
   ]
  },
  {
   "cell_type": "code",
   "execution_count": null,
   "id": "3bfe1bc2",
   "metadata": {},
   "outputs": [],
   "source": [
    "# verify that equilibrium values indeed satisfy f = 0\n",
    "    # create a substitutable version of f and when you substitue equilibrium values in it, every element should be zero"
   ]
  },
  {
   "cell_type": "code",
   "execution_count": null,
   "id": "a0c324e7",
   "metadata": {},
   "outputs": [],
   "source": [
    "# Get A matrix\n",
    "\n",
    "# do jacobian of f and substitute the eq values\n",
    "print(f'Dimensions of A matrix is: {np.shape(A)}')\n",
    "\n",
    "# Get B\n",
    "\n",
    "# do jacobian of f and substitute the eq values\n",
    "print(f'Dimensions of B matrix is: {np.shape(B)}')"
   ]
  },
  {
   "cell_type": "code",
   "execution_count": null,
   "id": "needed-motion",
   "metadata": {},
   "outputs": [],
   "source": [
    "# Get C matrix\n",
    "\n",
    "# do jacobian of g and substitute the eq values\n",
    "print(f'Dimensions of C matrix is: {np.shape(C)}')"
   ]
  },
  {
   "cell_type": "markdown",
   "id": "69200654",
   "metadata": {},
   "source": [
    "### Verify Controllability and Observability"
   ]
  },
  {
   "cell_type": "code",
   "execution_count": null,
   "id": "c92ceca3",
   "metadata": {},
   "outputs": [],
   "source": [
    "# controllability\n",
    "\n",
    "# get controllability matrix W\n",
    "\n",
    "print(f'Rank of W matrix is: {np.linalg.matrix_rank(W)}')\n",
    "print(f'Number of state variables is: {A.shape[0]}')"
   ]
  },
  {
   "cell_type": "code",
   "execution_count": null,
   "id": "dc659ccf",
   "metadata": {},
   "outputs": [],
   "source": [
    "# observability\n",
    "\n",
    "# get observability matrix O\n",
    "\n",
    "print(f'Rank of O matrix is: {np.linalg.matrix_rank(O)}')\n",
    "print(f'Number of state variables is: {A.shape[0]}')"
   ]
  },
  {
   "cell_type": "markdown",
   "id": "17f6f2a5",
   "metadata": {},
   "source": [
    "## Design Controller and Observer"
   ]
  },
  {
   "cell_type": "code",
   "execution_count": null,
   "id": "52f87655",
   "metadata": {},
   "outputs": [],
   "source": [
    "# Design controller\n",
    "\n",
    "print(f'Shape of K is: {np.shape(K)}')"
   ]
  },
  {
   "cell_type": "code",
   "execution_count": null,
   "id": "ffbac7d0",
   "metadata": {},
   "outputs": [],
   "source": [
    "# design observer\n",
    "\n",
    "print(f'Shape of L is: {np.shape(L)}')"
   ]
  },
  {
   "cell_type": "markdown",
   "id": "e5063da2",
   "metadata": {},
   "source": [
    "## Run Simulation"
   ]
  },
  {
   "cell_type": "code",
   "execution_count": null,
   "id": "a319888d",
   "metadata": {},
   "outputs": [],
   "source": [
    "# create an instance of the simulator. Run this only once. You can run rest of the cells if you update the controller\n",
    "# but don't run this cell again\n",
    "\n",
    "# pos_noise = 0 makes noise in position measurements zero. It should be left at 0\n",
    "# rpy_noise = 0 makes noise in orientation measurements zero. It should be left at 0\n",
    "# num_rings = number of rings in the arena. Default value is 2.\n",
    "# ring_separation = separation between rings. Leave it at 5.\n",
    "\n",
    "simulator = ae353_drone.Simulator(display=True, pos_noise=0, rpy_noise=0, num_rings=2, ring_separation=5)"
   ]
  },
  {
   "cell_type": "code",
   "execution_count": null,
   "id": "06c3704c",
   "metadata": {},
   "outputs": [],
   "source": [
    "class RobotController:\n",
    "    def __init__(self, limiter=None):\n",
    "        self.dt = 0.01\n",
    "        self.limiter = limiter # function to provide lower and upper bounds on your control outputs value. \n",
    "                               # You don't need a limiter function so you can leave it unchanged. \n",
    "\n",
    "    def get_color(self):\n",
    "        return [0., 1., 0.]\n",
    "\n",
    "    def reset(self, pos):\n",
    "        self.xhat = np.zeros(12).reshape((12,1))\n",
    "\n",
    "    def run(self, pos, rpy, pos_ring, is_last_ring, pos_others):\n",
    "        \n",
    "        # Inputs description:\n",
    "        # pos = current position of drone\n",
    "        # rpy = current rpy of drone\n",
    "        # pos_ring = position of next ring center\n",
    "        # is_last_ring = true or false\n",
    "        # pos_others = position of other drones, if exist\n",
    "        \n",
    "        # create y vector\n",
    "        \n",
    "        # get desired point and make it an equilibrium point\n",
    "      \n",
    "        # get control \n",
    "  \n",
    "        # update state estimate\n",
    "\n",
    "        # data is automatically logged; see plotting code below to see how to access it\n",
    "        \n",
    "        \n",
    "        # setup a limiter function - don't change\n",
    "        if self.limiter is not None:\n",
    "            tau_x, tau_y, tau_z, f_z = self.limiter(tau_x, tau_y, tau_z, f_z)\n",
    "\n",
    "        # return controls\n",
    "        return tau_x, tau_y, tau_z, f_z"
   ]
  },
  {
   "cell_type": "code",
   "execution_count": null,
   "id": "c9416e99",
   "metadata": {},
   "outputs": [],
   "source": [
    "# clear any previously added drones from the simulator. Run this cell to reset the environment\n",
    "simulator.clear_drones()"
   ]
  },
  {
   "cell_type": "markdown",
   "id": "christian-citation",
   "metadata": {},
   "source": [
    "Add the drone to the simulator. There are three arguments:\n",
    "\n",
    "* `RobotController` is the class definition\n",
    "* `'my_netid'` is the name of the drone\n",
    "* `'my_image.png'` is the name of an image to use as a label (can be `None`, can be a file path)\n",
    "\n",
    "You can call this function more than once, so long as you call it with a different drone name each time. An exception will be raised if you try to add two drones of the same name to the simulator."
   ]
  },
  {
   "cell_type": "code",
   "execution_count": null,
   "id": "exceptional-aspect",
   "metadata": {},
   "outputs": [],
   "source": [
    "# add a drone that operates with the controller 'RobotController' that you designed above\n",
    "simulator.add_drone(RobotController, 'my_netid', 'my_image.png')"
   ]
  },
  {
   "cell_type": "markdown",
   "id": "basic-variance",
   "metadata": {},
   "source": [
    "Reset the drone (i.e., place it at a random location in the start ring)."
   ]
  },
  {
   "cell_type": "code",
   "execution_count": null,
   "id": "scientific-friendly",
   "metadata": {},
   "outputs": [],
   "source": [
    "# reset drone to random initial location\n",
    "simulator.reset() "
   ]
  },
  {
   "cell_type": "markdown",
   "id": "dress-product",
   "metadata": {},
   "source": [
    "Run simulation until `max_time` is reached or until the drone reaches the finish ring."
   ]
  },
  {
   "cell_type": "code",
   "execution_count": null,
   "id": "streaming-narrative",
   "metadata": {},
   "outputs": [],
   "source": [
    "# simulation runs until max_time or until reaching last ring\n",
    "simulator.run(max_time=5.0) "
   ]
  },
  {
   "cell_type": "markdown",
   "id": "registered-faith",
   "metadata": {},
   "source": [
    "## Example of how to get data and plot results"
   ]
  },
  {
   "cell_type": "markdown",
   "id": "ce93d220",
   "metadata": {},
   "source": [
    "Assume that we already did two things:\n",
    "\n",
    "* Added a drone with the name `my_netid` to the simulator\n",
    "* Ran the simulation"
   ]
  },
  {
   "cell_type": "markdown",
   "id": "colonial-helicopter",
   "metadata": {},
   "source": [
    "Get drone by name. It is the name you assigned while using `simulator.add_drone()`. "
   ]
  },
  {
   "cell_type": "code",
   "execution_count": null,
   "id": "agricultural-coach",
   "metadata": {},
   "outputs": [],
   "source": [
    "drone_name = 'my_netid' # drone name\n",
    "drone = simulator.get_drone_by_name(drone_name) # get the internal drone object corresponding to the drone name\n",
    "\n",
    "if drone is None:\n",
    "    drone_names = '\\n'.join([d['name'] for d in simulator.drones])\n",
    "    msg = f'The simulator has no drone with name \"{drone_name}\".'\n",
    "    if len(drone_names) == 0:\n",
    "        msg += f' The simulator has no drones at all, in fact.'\n",
    "    else:\n",
    "        msg += f' The simulator has these drones:'\n",
    "        msg += f'\\n==========\\n{drone_names}\\n==========\\n'\n",
    "    print(msg)"
   ]
  },
  {
   "cell_type": "markdown",
   "id": "polished-advisory",
   "metadata": {},
   "source": [
    "Extract data."
   ]
  },
  {
   "cell_type": "code",
   "execution_count": null,
   "id": "liked-handle",
   "metadata": {},
   "outputs": [],
   "source": [
    "# get all the data from the drone with the name 'my_netid' as assigned in previous cell\n",
    "data = drone['data'].copy()"
   ]
  },
  {
   "cell_type": "markdown",
   "id": "concrete-combining",
   "metadata": {},
   "source": [
    "Convert all lists in data to numpy arrays."
   ]
  },
  {
   "cell_type": "code",
   "execution_count": null,
   "id": "alive-capacity",
   "metadata": {},
   "outputs": [],
   "source": [
    "for key in data.keys():\n",
    "    if key != 'user_data':\n",
    "        data[key] = np.array(data[key]).T\n",
    "for key in data['user_data'].keys():\n",
    "    data['user_data'][key] = np.array(data['user_data'][key]).T"
   ]
  },
  {
   "cell_type": "markdown",
   "id": "blond-static",
   "metadata": {},
   "source": [
    "Did the drone finish? If so, what was the time at which it finished? If not, was it still running (or was there likely an error)?"
   ]
  },
  {
   "cell_type": "code",
   "execution_count": null,
   "id": "greenhouse-steering",
   "metadata": {},
   "outputs": [],
   "source": [
    "if drone['finish_time'] is None:\n",
    "    if drone['running']:\n",
    "        print(f'The drone \"{drone[\"name\"]}\" did not finish.')\n",
    "    else:\n",
    "        print(f'The drone \"{drone[\"name\"]}\" did not finish and was no longer running.')\n",
    "else:\n",
    "    print(f'The drone \"{drone[\"name\"]}\" finished with time: {drone[\"finish_time\"]}')"
   ]
  },
  {
   "cell_type": "markdown",
   "id": "cognitive-nomination",
   "metadata": {},
   "source": [
    "Plot results."
   ]
  },
  {
   "cell_type": "code",
   "execution_count": null,
   "id": "informed-watson",
   "metadata": {},
   "outputs": [],
   "source": [
    "# Create a figure with subplots that all share the same x-axis\n",
    "fig, (ax_pos, ax_rpy, ax_act) = plt.subplots(3, 1, figsize=(9, 12), sharex=True)\n",
    "\n",
    "# Position\n",
    "ax_pos.plot(data['t'], data['pos'][0, :], label='x (m)', linewidth=4)\n",
    "ax_pos.plot(data['t'], data['pos'][1, :], label='y (m)', linewidth=4)\n",
    "ax_pos.plot(data['t'], data['pos'][2, :], label='z (m)', linewidth=4)\n",
    "ax_pos.grid()\n",
    "ax_pos.legend(fontsize=16)\n",
    "ax_pos.tick_params(labelsize=14)\n",
    "\n",
    "# Roll, pitch, and yaw angles\n",
    "ax_rpy.plot(data['t'], data['rpy'][0, :], label='roll (rad)', linewidth=4)\n",
    "ax_rpy.plot(data['t'], data['rpy'][1, :], label='pitch (rad)', linewidth=4)\n",
    "ax_rpy.plot(data['t'], data['rpy'][2, :], label='yaw (rad)', linewidth=4)\n",
    "ax_rpy.grid()\n",
    "ax_rpy.legend(fontsize=16)\n",
    "ax_rpy.tick_params(labelsize=14)\n",
    "\n",
    "# Actuator commands\n",
    "ax_act.plot(data['t'], data['tau_x'], label='tau_x (N-m)', linewidth=4)\n",
    "ax_act.plot(data['t'], data['user_data']['tau_x_des'], '--', label='desired tau_x (N-m)', linewidth=4)\n",
    "ax_act.plot(data['t'], data['tau_y'], label='tau_y (N-m)', linewidth=4)\n",
    "ax_act.plot(data['t'], data['user_data']['tau_y_des'], '--', label='desired tau_y (N-m)', linewidth=4)\n",
    "ax_act.plot(data['t'], data['tau_z'], label='tau_z (N-m)', linewidth=4)\n",
    "ax_act.plot(data['t'], data['user_data']['tau_z_des'], '--', label='desired tau_z (N-m)', linewidth=4)\n",
    "ax_act.plot(data['t'], data['f_z'], label='f_z (N)', linewidth=4)\n",
    "ax_act.plot(data['t'], data['user_data']['f_z_des'], '--', label='desired f_z (N-m)', linewidth=4)\n",
    "ax_act.grid()\n",
    "ax_act.legend(fontsize=16)\n",
    "ax_act.tick_params(labelsize=14)\n",
    "\n",
    "# Set shared x-axis properties\n",
    "ax_act.set_xlabel('time (s)', fontsize=20)\n",
    "ax_act.set_xlim([data['t'][0], data['t'][-1]])\n",
    "\n",
    "# Make the arrangement of subplots look nice\n",
    "fig.tight_layout()"
   ]
  },
  {
   "cell_type": "markdown",
   "id": "4403325a",
   "metadata": {},
   "source": [
    "# Additional Code Snippets"
   ]
  },
  {
   "cell_type": "markdown",
   "id": "5ccb4108",
   "metadata": {},
   "source": [
    "### The following code may not be useful if you are not participating in the contests and you can delete it from your notebook"
   ]
  },
  {
   "cell_type": "markdown",
   "id": "09600509",
   "metadata": {},
   "source": [
    "The following sections provide code snippets for doing different things, including making videos, rearranging the rings, loading controllers from the `students` folder to test your collision avoidance code, etc. "
   ]
  },
  {
   "cell_type": "markdown",
   "id": "secondary-condition",
   "metadata": {},
   "source": [
    "## Example of how to load drones from the \"students\" directory"
   ]
  },
  {
   "cell_type": "markdown",
   "id": "proprietary-camel",
   "metadata": {},
   "source": [
    "Load drones from `students` directory."
   ]
  },
  {
   "cell_type": "code",
   "execution_count": null,
   "id": "adolescent-anime",
   "metadata": {},
   "outputs": [],
   "source": [
    "simulator.load_drones()"
   ]
  },
  {
   "cell_type": "markdown",
   "id": "progressive-catch",
   "metadata": {},
   "source": [
    "Reset drones (places drones at random positions within the start ring)."
   ]
  },
  {
   "cell_type": "code",
   "execution_count": null,
   "id": "noted-filter",
   "metadata": {},
   "outputs": [],
   "source": [
    "simulator.reset()"
   ]
  },
  {
   "cell_type": "markdown",
   "id": "broke-water",
   "metadata": {},
   "source": [
    "Run simulation for `max_time` seconds or until all drones finish."
   ]
  },
  {
   "cell_type": "code",
   "execution_count": null,
   "id": "russian-thunder",
   "metadata": {},
   "outputs": [],
   "source": [
    "simulator.run(max_time=5.0)"
   ]
  },
  {
   "cell_type": "markdown",
   "id": "small-nation",
   "metadata": {},
   "source": [
    "## Example of how to show results, change views, keep running"
   ]
  },
  {
   "cell_type": "markdown",
   "id": "engaged-award",
   "metadata": {},
   "source": [
    "Show results (so far)."
   ]
  },
  {
   "cell_type": "code",
   "execution_count": null,
   "id": "exclusive-orlando",
   "metadata": {},
   "outputs": [],
   "source": [
    "simulator.show_results()"
   ]
  },
  {
   "cell_type": "markdown",
   "id": "superior-sydney",
   "metadata": {},
   "source": [
    "View from behind a particular drone."
   ]
  },
  {
   "cell_type": "code",
   "execution_count": null,
   "id": "cutting-ecuador",
   "metadata": {},
   "outputs": [],
   "source": [
    "simulator.camera_droneview('template')"
   ]
  },
  {
   "cell_type": "markdown",
   "id": "american-corpus",
   "metadata": {},
   "source": [
    "Continue running simulation from same point for `max_time` seconds or until all drones finish."
   ]
  },
  {
   "cell_type": "code",
   "execution_count": null,
   "id": "known-retail",
   "metadata": {},
   "outputs": [],
   "source": [
    "simulator.run(max_time=5.0)"
   ]
  },
  {
   "cell_type": "markdown",
   "id": "herbal-twenty",
   "metadata": {},
   "source": [
    "View from finish ring instead of from start ring."
   ]
  },
  {
   "cell_type": "code",
   "execution_count": null,
   "id": "trained-martin",
   "metadata": {},
   "outputs": [],
   "source": [
    "simulator.camera_finishview()"
   ]
  },
  {
   "cell_type": "markdown",
   "id": "joined-nature",
   "metadata": {},
   "source": [
    "Continue running simulation from same point for `max_time` seconds or until all drones finish."
   ]
  },
  {
   "cell_type": "code",
   "execution_count": null,
   "id": "supposed-amplifier",
   "metadata": {},
   "outputs": [],
   "source": [
    "simulator.run(max_time=5.0)"
   ]
  },
  {
   "cell_type": "markdown",
   "id": "engaged-indonesian",
   "metadata": {},
   "source": [
    "Show results (so far)."
   ]
  },
  {
   "cell_type": "code",
   "execution_count": null,
   "id": "minor-superintendent",
   "metadata": {},
   "outputs": [],
   "source": [
    "simulator.show_results()"
   ]
  },
  {
   "cell_type": "markdown",
   "id": "earned-somewhere",
   "metadata": {},
   "source": [
    "## Example of how to clear and reload drones"
   ]
  },
  {
   "cell_type": "markdown",
   "id": "civilian-interface",
   "metadata": {},
   "source": [
    "Clear all drones."
   ]
  },
  {
   "cell_type": "code",
   "execution_count": null,
   "id": "economic-miller",
   "metadata": {},
   "outputs": [],
   "source": [
    "simulator.clear_drones()"
   ]
  },
  {
   "cell_type": "markdown",
   "id": "smoking-animation",
   "metadata": {},
   "source": [
    "Load drones again from `students` directory."
   ]
  },
  {
   "cell_type": "code",
   "execution_count": null,
   "id": "rental-member",
   "metadata": {},
   "outputs": [],
   "source": [
    "simulator.load_drones()"
   ]
  },
  {
   "cell_type": "markdown",
   "id": "democratic-advocacy",
   "metadata": {},
   "source": [
    "Reset drones (places drones at random positions within the start ring)."
   ]
  },
  {
   "cell_type": "code",
   "execution_count": null,
   "id": "every-times",
   "metadata": {},
   "outputs": [],
   "source": [
    "simulator.reset()"
   ]
  },
  {
   "cell_type": "markdown",
   "id": "special-camel",
   "metadata": {},
   "source": [
    "Run simulation until `max_time` is reached or until all drones finish."
   ]
  },
  {
   "cell_type": "code",
   "execution_count": null,
   "id": "present-analyst",
   "metadata": {},
   "outputs": [],
   "source": [
    "simulator.run(max_time=5.0)"
   ]
  },
  {
   "cell_type": "markdown",
   "id": "aquatic-saint",
   "metadata": {},
   "source": [
    "## Example of how to rearrange the rings"
   ]
  },
  {
   "cell_type": "markdown",
   "id": "natural-drunk",
   "metadata": {},
   "source": [
    "Rearrange the rings."
   ]
  },
  {
   "cell_type": "code",
   "execution_count": null,
   "id": "premium-mexico",
   "metadata": {},
   "outputs": [],
   "source": [
    "simulator.move_rings()"
   ]
  },
  {
   "cell_type": "markdown",
   "id": "allied-genealogy",
   "metadata": {},
   "source": [
    "Reset drones (places drones at random positions within the start ring)."
   ]
  },
  {
   "cell_type": "code",
   "execution_count": null,
   "id": "reasonable-writer",
   "metadata": {},
   "outputs": [],
   "source": [
    "simulator.reset()"
   ]
  },
  {
   "cell_type": "markdown",
   "id": "strange-provision",
   "metadata": {},
   "source": [
    "Run simulation until `max_time` is reached or until all drones finish."
   ]
  },
  {
   "cell_type": "code",
   "execution_count": null,
   "id": "narrative-worse",
   "metadata": {},
   "outputs": [],
   "source": [
    "simulator.run(max_time=5.0)"
   ]
  },
  {
   "cell_type": "markdown",
   "id": "realistic-virgin",
   "metadata": {},
   "source": [
    "## Example of how to take a snapshot"
   ]
  },
  {
   "cell_type": "markdown",
   "id": "rough-rally",
   "metadata": {},
   "source": [
    "View from behind a particular drone."
   ]
  },
  {
   "cell_type": "code",
   "execution_count": null,
   "id": "described-yukon",
   "metadata": {},
   "outputs": [],
   "source": [
    "simulator.camera_droneview('template')"
   ]
  },
  {
   "cell_type": "markdown",
   "id": "instant-scott",
   "metadata": {},
   "source": [
    "Display a snapshot."
   ]
  },
  {
   "cell_type": "code",
   "execution_count": null,
   "id": "thrown-harvard",
   "metadata": {},
   "outputs": [],
   "source": [
    "# Get snapshot as 480 x 480 x 4 numpy array of RGBA values\n",
    "rgba = simulator.snapshot()\n",
    "\n",
    "# Display snapshot\n",
    "plt.figure(figsize=(9, 9))\n",
    "plt.imshow(rgba)"
   ]
  },
  {
   "cell_type": "markdown",
   "id": "frequent-housing",
   "metadata": {},
   "source": [
    "Save the snapshot."
   ]
  },
  {
   "cell_type": "code",
   "execution_count": null,
   "id": "serial-tampa",
   "metadata": {},
   "outputs": [],
   "source": [
    "plt.imsave('my_snapshot.png', rgba)"
   ]
  },
  {
   "cell_type": "markdown",
   "id": "preliminary-washington",
   "metadata": {},
   "source": [
    "## Example of how to record a movie"
   ]
  },
  {
   "cell_type": "markdown",
   "id": "universal-arrangement",
   "metadata": {},
   "source": [
    "You must install both [imageio](https://github.com/imageio/imageio) and [imageio-ffmpeg](https://github.com/imageio/imageio-ffmpeg) in order for this to work. You can do this from a terminal (in your `ae353-bullet` environment, for example) as follows:\n",
    "\n",
    "```\n",
    "pip install imageio\n",
    "pip install imageio-ffmpeg\n",
    "```"
   ]
  },
  {
   "cell_type": "markdown",
   "id": "missing-administrator",
   "metadata": {},
   "source": [
    "Reset drones (places drones at random positions within the start ring)."
   ]
  },
  {
   "cell_type": "code",
   "execution_count": null,
   "id": "economic-tribe",
   "metadata": {},
   "outputs": [],
   "source": [
    "simulator.reset()"
   ]
  },
  {
   "cell_type": "markdown",
   "id": "usual-retention",
   "metadata": {},
   "source": [
    "View from behind a particular drone."
   ]
  },
  {
   "cell_type": "code",
   "execution_count": null,
   "id": "dental-eight",
   "metadata": {},
   "outputs": [],
   "source": [
    "simulator.camera_droneview('template')"
   ]
  },
  {
   "cell_type": "markdown",
   "id": "cutting-guide",
   "metadata": {},
   "source": [
    "Run simulation until `max_time` is reached or until all drones finish, saving movie to `my_video.mp4`."
   ]
  },
  {
   "cell_type": "code",
   "execution_count": null,
   "id": "comprehensive-taxation",
   "metadata": {},
   "outputs": [],
   "source": [
    "simulator.run(max_time=1.0, video_filename='my_video.mp4')"
   ]
  }
 ],
 "metadata": {
  "kernelspec": {
   "display_name": "Python 3 (ipykernel)",
   "language": "python",
   "name": "python3"
  },
  "language_info": {
   "codemirror_mode": {
    "name": "ipython",
    "version": 3
   },
   "file_extension": ".py",
   "mimetype": "text/x-python",
   "name": "python",
   "nbconvert_exporter": "python",
   "pygments_lexer": "ipython3",
   "version": "3.9.6"
  }
 },
 "nbformat": 4,
 "nbformat_minor": 5
}
